{
  "nbformat": 4,
  "nbformat_minor": 0,
  "metadata": {
    "colab": {
      "name": "bottle_classifieripynb",
      "provenance": [],
      "collapsed_sections": []
    },
    "kernelspec": {
      "name": "python3",
      "display_name": "Python 3"
    },
    "accelerator": "GPU"
  },
  "cells": [
    {
      "cell_type": "markdown",
      "metadata": {
        "id": "9AtIL8xyrgZJ",
        "colab_type": "text"
      },
      "source": [
        "# Import libraries"
      ]
    },
    {
      "cell_type": "code",
      "metadata": {
        "id": "Sskh8_nQwH9W",
        "colab_type": "code",
        "outputId": "1482b2d0-4fe0-45d0-809e-6f75bd8f1903",
        "colab": {
          "base_uri": "https://localhost:8080/",
          "height": 34
        }
      },
      "source": [
        "from google.colab import drive\n",
        "import os\n",
        "import pandas as pd\n",
        "import numpy as np\n",
        "import cv2\n",
        "import pickle\n",
        "import random\n",
        "import time\n",
        "from matplotlib import pyplot as plt\n",
        "import torch\n",
        "import torch.nn as nn\n",
        "import torch.nn.functional as F\n",
        "import torch.optim as optim\n",
        "import torchvision\n",
        "import torchvision.transforms as transforms\n",
        "import torchvision.datasets as datasets\n",
        "\n",
        "drive.mount('/content/drive')\n",
        "os.chdir(\"/content/drive/My Drive/Colab Notebooks/DL\")\n",
        "pd.set_option('display.max_rows', 5)\n",
        "train_data_folder = './modified_kaggle_HW2/kaggle_train_128/train_128/'\n",
        "test_data_folder = './modified_kaggle_HW2/kaggle_test_128/test_128/'\n",
        "labels = pd.read_csv('./modified_kaggle_HW2/modified_prediction_labels_template.csv')\n",
        "#five output classes\n",
        "OUTPUT_DIM=5"
      ],
      "execution_count": 0,
      "outputs": [
        {
          "output_type": "stream",
          "text": [
            "Drive already mounted at /content/drive; to attempt to forcibly remount, call drive.mount(\"/content/drive\", force_remount=True).\n"
          ],
          "name": "stdout"
        }
      ]
    },
    {
      "cell_type": "markdown",
      "metadata": {
        "id": "WjmJ7ypxrnIX",
        "colab_type": "text"
      },
      "source": [
        "## Converting all data to pkl"
      ]
    },
    {
      "cell_type": "code",
      "metadata": {
        "id": "fM65NkoVgcGV",
        "colab_type": "code",
        "colab": {}
      },
      "source": [
        "#Loading data in pkl format for train, validation and prediction(only used for first time data preparation)\n",
        "\"\"\"\n",
        "for class_ in classes:\n",
        "  trainset = []\n",
        "  image_train_read(train_data_folder, class_, trainset)\n",
        "  print('Saving to file for class ', class_)\n",
        "  with open('trainset.pkl', 'ab') as f:\n",
        "    pickle.dump(trainset, f)\n",
        "  f.close()\n",
        "\n",
        "#Loading data for test\n",
        "testset = []\n",
        "image_test_read(test_data_folder, testset)\n",
        "with open('testset.pkl', 'ab') as f:\n",
        "  pickle.dump(testset, f)\n",
        "f.close()\n",
        "\"\"\""
      ],
      "execution_count": 0,
      "outputs": []
    },
    {
      "cell_type": "markdown",
      "metadata": {
        "id": "RsTQqP12ruHd",
        "colab_type": "text"
      },
      "source": [
        "## Define all functions and NN models "
      ]
    },
    {
      "cell_type": "code",
      "metadata": {
        "id": "mqdnt5aP5Vlp",
        "colab_type": "code",
        "colab": {}
      },
      "source": [
        "#load the labels\n",
        "def load_labels():\n",
        "  return ['0', '1', '2', '3', '4']\n",
        "\n",
        "#read train data in CIFAR10 data format\n",
        "def image_train_read(folder, class_, ls_):\n",
        "  count = 1\n",
        "  #read all the files in train directory\n",
        "  for image in os.listdir(os.path.join(folder, class_)):\n",
        "    print('Class : ', class_, ' Image count : ', count)\n",
        "    img = cv2.imread(train_data_folder + class_ + '/' + image)\n",
        "    #plt.imshow(img)\n",
        "    ls_.append((img, int(class_)))\n",
        "    count += 1\n",
        "\n",
        "#read prediction/ test data in CIFAR10 data format\n",
        "def image_test_read(folder, ls_):\n",
        "  count = 1\n",
        "  for image in os.listdir(folder):\n",
        "    print('Image count : ', count)\n",
        "    img = cv2.imread(test_data_folder + image)\n",
        "    #plt.imshow(img)\n",
        "\n",
        "    ls_.append((img, str(image)))\n",
        "    count += 1\n",
        "\n",
        "#calculate accuracy for predictions\n",
        "def calculate_accuracy(fx, y):\n",
        "    preds = fx.argmax(1, keepdim=True)\n",
        "    correct = preds.eq(y.view_as(preds)).sum()\n",
        "    acc = correct.float()/preds.shape[0]\n",
        "    return acc\n",
        "\n",
        "def train(model, iterator, optimizer, criterion, device):\n",
        "    epoch_loss = 0\n",
        "    epoch_acc = 0 \n",
        "    model.train()\n",
        "    for (x, y) in iterator:    \n",
        "        x = x.to(device)\n",
        "        y = y.to(device)    \n",
        "        optimizer.zero_grad()\n",
        "        fx = model(x)\n",
        "        loss = criterion(fx, y)\n",
        "        acc = calculate_accuracy(fx, y)\n",
        "        loss.backward()\n",
        "        optimizer.step()\n",
        "        epoch_loss += loss.item()\n",
        "        epoch_acc += acc.item()\n",
        "        \n",
        "    return epoch_loss / len(iterator), epoch_acc / len(iterator)\n",
        "\n",
        "def evaluate(model, iterator, criterion, device): \n",
        "    epoch_loss = 0\n",
        "    epoch_acc = 0\n",
        "    model.eval()\n",
        "    with torch.no_grad():\n",
        "        for (x, y) in iterator:\n",
        "            x = x.to(device)\n",
        "            y = y.to(device)\n",
        "            fx = model(x)\n",
        "            loss = criterion(fx, y)\n",
        "            acc = calculate_accuracy(fx, y)\n",
        "            epoch_loss += loss.item()\n",
        "            epoch_acc += acc.item()\n",
        "        \n",
        "    return epoch_loss / len(iterator), epoch_acc / len(iterator)\n",
        "\n",
        "def epoch_time(start_time, end_time):\n",
        "    elapsed_time = end_time - start_time\n",
        "    elapsed_mins = int(elapsed_time / 60)\n",
        "    elapsed_secs = int(elapsed_time - (elapsed_mins * 60))\n",
        "    return elapsed_mins, elapsed_secs\n",
        "\n",
        "def count_parameters(model):\n",
        "    return sum(p.numel() for p in model.parameters() if p.requires_grad)\n",
        "\n",
        "\n",
        "def train_model(model, EPOCHS=10, OUTPUT_DIM=5, outputModel='bottle-model-LeNet.pt'):\n",
        "  best_valid_loss = float('inf')\n",
        "  optimizer = optim.Adam(model.parameters())\n",
        "  criterion = nn.CrossEntropyLoss()\n",
        "  device = torch.device('cuda' if torch.cuda.is_available() else 'cpu')\n",
        "  model = model.to(device)\n",
        "  criterion = criterion.to(device)\n",
        "  for epoch in range(EPOCHS):  \n",
        "      start_time = time.time()\n",
        "      train_loss, train_acc = train(model, train_iterator, optimizer, criterion, device)\n",
        "      valid_loss, valid_acc = evaluate(model, valid_iterator, criterion, device)\n",
        "      if valid_loss < best_valid_loss:\n",
        "          best_valid_loss = valid_loss\n",
        "          torch.save(model.state_dict(), outputModel)\n",
        "      end_time = time.time()\n",
        "      epoch_mins, epoch_secs = epoch_time(start_time, end_time)\n",
        "      print(f'Epoch: {epoch+1:02} | Epoch Time: {epoch_mins}m {epoch_secs}s')\n",
        "      print(f'\\tTrain Loss: {train_loss:.3f} | Train Acc: {train_acc*100:.2f}%')\n",
        "      print(f'\\t Val. Loss: {valid_loss:.3f} |  Val. Acc: {valid_acc*100:.2f}%')\n",
        "\n",
        "def class_accuracy(model, outputModel=''):\n",
        "  net = model\n",
        "  net.load_state_dict(torch.load(outputModel))\n",
        "  class_correct = list(0. for i in range(OUTPUT_DIM))\n",
        "  class_total = list(0. for i in range(OUTPUT_DIM))\n",
        "  with torch.no_grad():\n",
        "      for data in valid_iterator:\n",
        "          images, labels = data\n",
        "          outputs = net(images)\n",
        "          _, predicted = torch.max(outputs, 1)\n",
        "          c = (predicted == labels).squeeze()\n",
        "          for i in range(OUTPUT_DIM):\n",
        "              label = labels[i]\n",
        "              class_correct[label] += c[i].item()\n",
        "              class_total[label] += 1\n",
        "\n",
        "      for i in range(5):\n",
        "        print('Accuracy of %5s : %2d %%' % (\n",
        "        classes[i], 100 * class_correct[i] / class_total[i]))\n",
        "      \n",
        "class LeNet(nn.Module):\n",
        "    def __init__(self, output_dim):\n",
        "        super().__init__()\n",
        "        self.conv1 = nn.Conv2d(in_channels = 3, \n",
        "                               out_channels = 6, \n",
        "                               kernel_size = 5)   \n",
        "        self.conv2 = nn.Conv2d(in_channels = 6, \n",
        "                               out_channels = 10, \n",
        "                               kernel_size = 5)\n",
        "        self.conv3 = nn.Conv2d(in_channels = 10, \n",
        "                               out_channels = 18, \n",
        "                               kernel_size = 5)\n",
        "    \n",
        "        self.fc1 = nn.Linear(18 * 5 * 5, 120)\n",
        "        self.fc2 = nn.Linear(120, 84)    \n",
        "        self.fc3 = nn.Linear(84, output_dim)\n",
        "\n",
        "    def forward(self, x):\n",
        "        x = self.conv1(x)\n",
        "        x = F.relu(x)\n",
        "        x = F.max_pool2d(x, kernel_size = 2)\n",
        "        \n",
        "        x = self.conv2(x)\n",
        "        x = F.relu(x)\n",
        "        x = F.max_pool2d(x, kernel_size = 2)\n",
        "\n",
        "        x = self.conv3(x)\n",
        "        x = F.relu(x)\n",
        "        x = F.max_pool2d(x, kernel_size = 5)\n",
        "        \n",
        "        x = x.view(x.shape[0], -1)\n",
        "        \n",
        "        x = self.fc1(x)\n",
        "        x = F.relu(x)\n",
        "        \n",
        "        x = self.fc2(x)\n",
        "        x = F.relu(x)\n",
        "        \n",
        "        x = self.fc3(x)\n",
        "        \n",
        "        return x\n",
        "\n",
        "class AlexNet(nn.Module):\n",
        "    def __init__(self, output_dim):\n",
        "        super().__init__()\n",
        "        \n",
        "        self.features = nn.Sequential(\n",
        "            nn.Conv2d(3, 16, 3, 2, 1), #in_channels, out_channels, kernel_size, stride, padding\n",
        "            nn.ReLU(inplace=True),\n",
        "            nn.MaxPool2d(2), #kernel_size\n",
        "            nn.Conv2d(16, 64, 3, padding = 1),\n",
        "            nn.ReLU(inplace=True),\n",
        "            nn.MaxPool2d(2),\n",
        "            nn.Conv2d(64, 256, 3, padding = 1),\n",
        "            nn.ReLU(inplace=True),\n",
        "            nn.Conv2d(256, 64, 3, padding = 1),\n",
        "            nn.ReLU(inplace=True),\n",
        "            nn.Conv2d(64, 32, 3, padding = 1),\n",
        "            nn.ReLU(inplace=True),\n",
        "            nn.MaxPool2d(4),\n",
        "        )\n",
        "        \n",
        "        self.classifier = nn.Sequential(\n",
        "            nn.Dropout(),\n",
        "            nn.Linear(32 * 4 * 4, 512),\n",
        "            nn.ReLU(inplace=True),\n",
        "            nn.Dropout(),\n",
        "            nn.Linear(512, 256),\n",
        "            nn.ReLU(inplace=True),\n",
        "            nn.Linear(256, output_dim),\n",
        "        )\n",
        "\n",
        "    def forward(self, x):\n",
        "        x = self.features(x)\n",
        "        x = x.view(x.shape[0], -1)\n",
        "        x = self.classifier(x)\n",
        "        return x"
      ],
      "execution_count": 0,
      "outputs": []
    },
    {
      "cell_type": "markdown",
      "metadata": {
        "id": "Jk8uuq4ir52M",
        "colab_type": "text"
      },
      "source": [
        "## Load train data and calculate mean/std across the three channels"
      ]
    },
    {
      "cell_type": "code",
      "metadata": {
        "id": "Ir3eefrXg9vT",
        "colab_type": "code",
        "outputId": "71f264b5-b4f9-4562-9cb4-8685a7bcb707",
        "colab": {
          "base_uri": "https://localhost:8080/",
          "height": 51
        }
      },
      "source": [
        "classes = load_labels()\n",
        "trainset = []\n",
        "with open('trainset.pkl', 'rb') as f:\n",
        "  for class_ in classes:\n",
        "    trainset.append(pickle.load(f))\n",
        "trainset = sum(trainset,[])\n",
        "trainset_data = np.asarray([img[0] for img in trainset]) \n",
        "means_train = trainset_data.mean(axis = (0,1,2)) / 255\n",
        "stds_train = trainset_data.std(axis = (0,1,2)) / 255\n",
        "print(f'Calculated means: {means_train}')\n",
        "print(f'Calculated stds: {stds_train}')\n",
        "del trainset_data"
      ],
      "execution_count": 0,
      "outputs": [
        {
          "output_type": "stream",
          "text": [
            "Calculated means: [0.39525004 0.4486831  0.49342256]\n",
            "Calculated stds: [0.23845134 0.2440876  0.25452742]\n"
          ],
          "name": "stdout"
        }
      ]
    },
    {
      "cell_type": "code",
      "metadata": {
        "id": "8WRmnb5EjIJ8",
        "colab_type": "code",
        "outputId": "297492e6-6d99-4bad-f00a-a4ad09d31073",
        "colab": {
          "base_uri": "https://localhost:8080/",
          "height": 51
        }
      },
      "source": [
        "with open('testset.pkl', 'rb') as f:\n",
        "    testset = pickle.load(f)\n",
        "testset_data = np.asarray([img[0] for img in testset]) \n",
        "means_test = testset_data.mean(axis = (0,1,2)) / 255\n",
        "stds_test = testset_data.std(axis = (0,1,2)) / 255\n",
        "print(f'Calculated means: {means_test}')\n",
        "print(f'Calculated stds: {stds_test}')\n",
        "del testset_data"
      ],
      "execution_count": 0,
      "outputs": [
        {
          "output_type": "stream",
          "text": [
            "Calculated means: [0.39354263 0.44758875 0.49312255]\n",
            "Calculated stds: [0.2404389  0.24719865 0.25792148]\n"
          ],
          "name": "stdout"
        }
      ]
    },
    {
      "cell_type": "markdown",
      "metadata": {
        "id": "0nLFIrcUsEaG",
        "colab_type": "text"
      },
      "source": [
        "## Image Processing"
      ]
    },
    {
      "cell_type": "code",
      "metadata": {
        "id": "0g_Ik9My1jIv",
        "colab_type": "code",
        "outputId": "ec3fdb66-4a23-4ebf-c313-383cf471d835",
        "colab": {
          "base_uri": "https://localhost:8080/",
          "height": 663
        }
      },
      "source": [
        "train_transforms = transforms.Compose([\n",
        "                          transforms.RandomHorizontalFlip(),\n",
        "                          transforms.RandomRotation(10),\n",
        "                          #transforms.CenterCrop(64),\n",
        "                          transforms.ToTensor(),\n",
        "                          #transforms.Normalize((0.5, 0.5, 0.5), (0.5, 0.5, 0.5))\n",
        "                          transforms.Normalize(mean = means_train, \n",
        "                                              std = stds_train)\n",
        "                       ])\n",
        "#Torch tensor to PIL image\n",
        "trans = transforms.ToPILImage()\n",
        "trainset_transformed = []\n",
        "for i in range(len(trainset)):\n",
        "  trainset_transformed.append((train_transforms(trans(trainset[i][0])), trainset[i][1]))\n",
        "  if i%400 == 0:\n",
        "    print(i, ' images are processed')\n",
        "del trainset"
      ],
      "execution_count": 0,
      "outputs": [
        {
          "output_type": "stream",
          "text": [
            "0  images are processed\n",
            "400  images are processed\n",
            "800  images are processed\n",
            "1200  images are processed\n",
            "1600  images are processed\n",
            "2000  images are processed\n",
            "2400  images are processed\n",
            "2800  images are processed\n",
            "3200  images are processed\n",
            "3600  images are processed\n",
            "4000  images are processed\n",
            "4400  images are processed\n",
            "4800  images are processed\n",
            "5200  images are processed\n",
            "5600  images are processed\n",
            "6000  images are processed\n",
            "6400  images are processed\n",
            "6800  images are processed\n",
            "7200  images are processed\n",
            "7600  images are processed\n",
            "8000  images are processed\n",
            "8400  images are processed\n",
            "8800  images are processed\n",
            "9200  images are processed\n",
            "9600  images are processed\n",
            "10000  images are processed\n",
            "10400  images are processed\n",
            "10800  images are processed\n",
            "11200  images are processed\n",
            "11600  images are processed\n",
            "12000  images are processed\n",
            "12400  images are processed\n",
            "12800  images are processed\n",
            "13200  images are processed\n",
            "13600  images are processed\n",
            "14000  images are processed\n",
            "14400  images are processed\n",
            "14800  images are processed\n"
          ],
          "name": "stdout"
        }
      ]
    },
    {
      "cell_type": "code",
      "metadata": {
        "id": "7yzSRK9irQzP",
        "colab_type": "code",
        "outputId": "bfc34fc9-ec55-49b8-e298-7e184555364b",
        "colab": {
          "base_uri": "https://localhost:8080/",
          "height": 170
        }
      },
      "source": [
        "test_transforms = transforms.Compose([\n",
        "                          transforms.RandomHorizontalFlip(),\n",
        "                          transforms.RandomRotation(10),\n",
        "                          #transforms.CenterCrop(64),\n",
        "                          transforms.ToTensor(),\n",
        "                          #transforms.Normalize((0.5, 0.5, 0.5), (0.5, 0.5, 0.5))\n",
        "                          transforms.Normalize(mean = means_test, \n",
        "                                              std = stds_test)\n",
        "                       ])\n",
        "trans = transforms.ToPILImage()\n",
        "testset_transformed = []\n",
        "for i in range(len(testset)):\n",
        "  testset_transformed.append((test_transforms(trans(testset[i][0])), testset[i][1]))\n",
        "  if i%400 == 0:\n",
        "    print(i, ' images are processed')\n",
        "del testset"
      ],
      "execution_count": 0,
      "outputs": [
        {
          "output_type": "stream",
          "text": [
            "0  images are processed\n",
            "400  images are processed\n",
            "800  images are processed\n",
            "1200  images are processed\n",
            "1600  images are processed\n",
            "2000  images are processed\n",
            "2400  images are processed\n",
            "2800  images are processed\n",
            "3200  images are processed\n"
          ],
          "name": "stdout"
        }
      ]
    },
    {
      "cell_type": "code",
      "metadata": {
        "id": "9JeWI_dBD6m9",
        "colab_type": "code",
        "outputId": "179ad1b3-ae88-4058-9c3d-8b74db336fcc",
        "colab": {
          "base_uri": "https://localhost:8080/",
          "height": 285
        }
      },
      "source": [
        "#check images\n",
        "img = trainset_transformed[2][0]\n",
        "npimg = img.numpy()\n",
        "plt.imshow(np.transpose(npimg, (1, 2, 0)))\n",
        "plt.show()"
      ],
      "execution_count": 0,
      "outputs": [
        {
          "output_type": "stream",
          "text": [
            "Clipping input data to the valid range for imshow with RGB data ([0..1] for floats or [0..255] for integers).\n"
          ],
          "name": "stderr"
        },
        {
          "output_type": "display_data",
          "data": {
            "image/png": "[encoded data removed]",
            "text/plain": [
              "<Figure size 432x288 with 1 Axes>"
            ]
          },
          "metadata": {
            "tags": []
          }
        }
      ]
    },
    {
      "cell_type": "code",
      "metadata": {
        "id": "gWlZkzJd9n4T",
        "colab_type": "code",
        "outputId": "24d92b80-f84d-4305-abe3-6770c3b9dfa7",
        "colab": {
          "base_uri": "https://localhost:8080/",
          "height": 68
        }
      },
      "source": [
        "n_train_examples = int(len(trainset_transformed)*0.9)\n",
        "n_valid_examples = len(trainset_transformed) - n_train_examples\n",
        "train_data, valid_data = torch.utils.data.random_split(trainset_transformed, \n",
        "                                                       [n_train_examples, n_valid_examples])\n",
        "print(f'Number of training examples: {len(train_data)}')\n",
        "print(f'Number of validation examples: {len(valid_data)}')\n",
        "print(f'Number of testing examples: {len(testset_transformed)}')"
      ],
      "execution_count": 0,
      "outputs": [
        {
          "output_type": "stream",
          "text": [
            "Number of training examples: 13517\n",
            "Number of validation examples: 1502\n",
            "Number of testing examples: 3500\n"
          ],
          "name": "stdout"
        }
      ]
    },
    {
      "cell_type": "markdown",
      "metadata": {
        "id": "bTaUh1DfsLtY",
        "colab_type": "text"
      },
      "source": [
        "## Define train/ valid and test iterator in batches"
      ]
    },
    {
      "cell_type": "code",
      "metadata": {
        "id": "LkKMvKTaIZXx",
        "colab_type": "code",
        "colab": {}
      },
      "source": [
        "BATCH_SIZE = 128\n",
        "train_iterator = torch.utils.data.DataLoader(train_data, \n",
        "                                             shuffle = True, \n",
        "                                             batch_size = BATCH_SIZE)\n",
        "valid_iterator = torch.utils.data.DataLoader(valid_data, \n",
        "                                             batch_size = BATCH_SIZE)\n",
        "\n",
        "test_iterator = torch.utils.data.DataLoader(testset_transformed,\n",
        "                                           batch_size = 1)"
      ],
      "execution_count": 0,
      "outputs": []
    },
    {
      "cell_type": "markdown",
      "metadata": {
        "id": "AoQtrG-csUy4",
        "colab_type": "text"
      },
      "source": [
        "## LeNet"
      ]
    },
    {
      "cell_type": "code",
      "metadata": {
        "id": "aomrcnCRJs2j",
        "colab_type": "code",
        "outputId": "26f81efb-ee00-4482-a517-852af3f05698",
        "colab": {
          "base_uri": "https://localhost:8080/",
          "height": 935
        }
      },
      "source": [
        "model = LeNet(OUTPUT_DIM)\n",
        "print(model)\n",
        "print(f'The model has {count_parameters(model):,} trainable parameters')\n",
        "train_model(model, EPOCHS=15, OUTPUT_DIM=5, outputModel='bottle-LeNet.pt')"
      ],
      "execution_count": 0,
      "outputs": [
        {
          "output_type": "stream",
          "text": [
            "LeNet(\n",
            "  (conv1): Conv2d(3, 6, kernel_size=(5, 5), stride=(1, 1))\n",
            "  (conv2): Conv2d(6, 10, kernel_size=(5, 5), stride=(1, 1))\n",
            "  (conv3): Conv2d(10, 18, kernel_size=(5, 5), stride=(1, 1))\n",
            "  (fc1): Linear(in_features=450, out_features=120, bias=True)\n",
            "  (fc2): Linear(in_features=120, out_features=84, bias=True)\n",
            "  (fc3): Linear(in_features=84, out_features=5, bias=True)\n",
            ")\n",
            "The model has 71,193 trainable parameters\n",
            "Epoch: 01 | Epoch Time: 0m 3s\n",
            "\tTrain Loss: 1.119 | Train Acc: 55.11%\n",
            "\t Val. Loss: 0.841 |  Val. Acc: 67.27%\n",
            "Epoch: 02 | Epoch Time: 0m 3s\n",
            "\tTrain Loss: 0.754 | Train Acc: 72.25%\n",
            "\t Val. Loss: 0.707 |  Val. Acc: 74.24%\n",
            "Epoch: 03 | Epoch Time: 0m 3s\n",
            "\tTrain Loss: 0.596 | Train Acc: 78.68%\n",
            "\t Val. Loss: 0.614 |  Val. Acc: 78.91%\n",
            "Epoch: 04 | Epoch Time: 0m 3s\n",
            "\tTrain Loss: 0.499 | Train Acc: 82.55%\n",
            "\t Val. Loss: 0.513 |  Val. Acc: 82.78%\n",
            "Epoch: 05 | Epoch Time: 0m 3s\n",
            "\tTrain Loss: 0.420 | Train Acc: 85.40%\n",
            "\t Val. Loss: 0.520 |  Val. Acc: 81.60%\n",
            "Epoch: 06 | Epoch Time: 0m 3s\n",
            "\tTrain Loss: 0.369 | Train Acc: 87.45%\n",
            "\t Val. Loss: 0.440 |  Val. Acc: 84.89%\n",
            "Epoch: 07 | Epoch Time: 0m 3s\n",
            "\tTrain Loss: 0.318 | Train Acc: 89.15%\n",
            "\t Val. Loss: 0.451 |  Val. Acc: 84.80%\n",
            "Epoch: 08 | Epoch Time: 0m 3s\n",
            "\tTrain Loss: 0.283 | Train Acc: 90.35%\n",
            "\t Val. Loss: 0.457 |  Val. Acc: 84.37%\n",
            "Epoch: 09 | Epoch Time: 0m 3s\n",
            "\tTrain Loss: 0.252 | Train Acc: 91.27%\n",
            "\t Val. Loss: 0.437 |  Val. Acc: 85.08%\n",
            "Epoch: 10 | Epoch Time: 0m 3s\n",
            "\tTrain Loss: 0.220 | Train Acc: 92.39%\n",
            "\t Val. Loss: 0.437 |  Val. Acc: 85.91%\n",
            "Epoch: 11 | Epoch Time: 0m 3s\n",
            "\tTrain Loss: 0.194 | Train Acc: 93.32%\n",
            "\t Val. Loss: 0.421 |  Val. Acc: 86.65%\n",
            "Epoch: 12 | Epoch Time: 0m 3s\n",
            "\tTrain Loss: 0.174 | Train Acc: 93.88%\n",
            "\t Val. Loss: 0.457 |  Val. Acc: 86.84%\n",
            "Epoch: 13 | Epoch Time: 0m 3s\n",
            "\tTrain Loss: 0.145 | Train Acc: 95.07%\n",
            "\t Val. Loss: 0.471 |  Val. Acc: 85.65%\n",
            "Epoch: 14 | Epoch Time: 0m 3s\n",
            "\tTrain Loss: 0.125 | Train Acc: 95.65%\n",
            "\t Val. Loss: 0.486 |  Val. Acc: 87.00%\n",
            "Epoch: 15 | Epoch Time: 0m 3s\n",
            "\tTrain Loss: 0.104 | Train Acc: 96.38%\n",
            "\t Val. Loss: 0.550 |  Val. Acc: 85.34%\n"
          ],
          "name": "stdout"
        }
      ]
    },
    {
      "cell_type": "markdown",
      "metadata": {
        "id": "LiCDtLoTsYPJ",
        "colab_type": "text"
      },
      "source": [
        "## AlexNet"
      ]
    },
    {
      "cell_type": "code",
      "metadata": {
        "id": "Ph9wuOWqPsdP",
        "colab_type": "code",
        "outputId": "975efec6-547f-4566-e107-dbe4cacee9ce",
        "colab": {
          "base_uri": "https://localhost:8080/",
          "height": 1000
        }
      },
      "source": [
        "model = AlexNet(OUTPUT_DIM)\n",
        "print(model)\n",
        "print(f'The model has {count_parameters(model):,} trainable parameters')\n",
        "train_model(model, EPOCHS=15, OUTPUT_DIM=5, outputModel='bottle-AlexNet.pt')"
      ],
      "execution_count": 0,
      "outputs": [
        {
          "output_type": "stream",
          "text": [
            "AlexNet(\n",
            "  (features): Sequential(\n",
            "    (0): Conv2d(3, 16, kernel_size=(3, 3), stride=(2, 2), padding=(1, 1))\n",
            "    (1): ReLU(inplace=True)\n",
            "    (2): MaxPool2d(kernel_size=2, stride=2, padding=0, dilation=1, ceil_mode=False)\n",
            "    (3): Conv2d(16, 64, kernel_size=(3, 3), stride=(1, 1), padding=(1, 1))\n",
            "    (4): ReLU(inplace=True)\n",
            "    (5): MaxPool2d(kernel_size=2, stride=2, padding=0, dilation=1, ceil_mode=False)\n",
            "    (6): Conv2d(64, 256, kernel_size=(3, 3), stride=(1, 1), padding=(1, 1))\n",
            "    (7): ReLU(inplace=True)\n",
            "    (8): Conv2d(256, 64, kernel_size=(3, 3), stride=(1, 1), padding=(1, 1))\n",
            "    (9): ReLU(inplace=True)\n",
            "    (10): Conv2d(64, 32, kernel_size=(3, 3), stride=(1, 1), padding=(1, 1))\n",
            "    (11): ReLU(inplace=True)\n",
            "    (12): MaxPool2d(kernel_size=4, stride=4, padding=0, dilation=1, ceil_mode=False)\n",
            "  )\n",
            "  (classifier): Sequential(\n",
            "    (0): Dropout(p=0.5, inplace=False)\n",
            "    (1): Linear(in_features=512, out_features=512, bias=True)\n",
            "    (2): ReLU(inplace=True)\n",
            "    (3): Dropout(p=0.5, inplace=False)\n",
            "    (4): Linear(in_features=512, out_features=256, bias=True)\n",
            "    (5): ReLU(inplace=True)\n",
            "    (6): Linear(in_features=256, out_features=5, bias=True)\n",
            "  )\n",
            ")\n",
            "The model has 718,693 trainable parameters\n",
            "Epoch: 01 | Epoch Time: 0m 4s\n",
            "\tTrain Loss: 1.316 | Train Acc: 42.48%\n",
            "\t Val. Loss: 0.952 |  Val. Acc: 62.65%\n",
            "Epoch: 02 | Epoch Time: 0m 4s\n",
            "\tTrain Loss: 0.925 | Train Acc: 64.67%\n",
            "\t Val. Loss: 0.776 |  Val. Acc: 71.39%\n",
            "Epoch: 03 | Epoch Time: 0m 4s\n",
            "\tTrain Loss: 0.708 | Train Acc: 74.89%\n",
            "\t Val. Loss: 0.598 |  Val. Acc: 80.24%\n",
            "Epoch: 04 | Epoch Time: 0m 4s\n",
            "\tTrain Loss: 0.582 | Train Acc: 79.72%\n",
            "\t Val. Loss: 0.491 |  Val. Acc: 83.09%\n",
            "Epoch: 05 | Epoch Time: 0m 4s\n",
            "\tTrain Loss: 0.499 | Train Acc: 83.01%\n",
            "\t Val. Loss: 0.472 |  Val. Acc: 83.73%\n",
            "Epoch: 06 | Epoch Time: 0m 4s\n",
            "\tTrain Loss: 0.425 | Train Acc: 85.49%\n",
            "\t Val. Loss: 0.409 |  Val. Acc: 85.76%\n",
            "Epoch: 07 | Epoch Time: 0m 4s\n",
            "\tTrain Loss: 0.393 | Train Acc: 86.74%\n",
            "\t Val. Loss: 0.404 |  Val. Acc: 86.80%\n",
            "Epoch: 08 | Epoch Time: 0m 4s\n",
            "\tTrain Loss: 0.334 | Train Acc: 88.75%\n",
            "\t Val. Loss: 0.379 |  Val. Acc: 87.76%\n",
            "Epoch: 09 | Epoch Time: 0m 4s\n",
            "\tTrain Loss: 0.303 | Train Acc: 89.76%\n",
            "\t Val. Loss: 0.393 |  Val. Acc: 87.80%\n",
            "Epoch: 10 | Epoch Time: 0m 4s\n",
            "\tTrain Loss: 0.266 | Train Acc: 90.91%\n",
            "\t Val. Loss: 0.363 |  Val. Acc: 88.88%\n",
            "Epoch: 11 | Epoch Time: 0m 4s\n",
            "\tTrain Loss: 0.242 | Train Acc: 92.05%\n",
            "\t Val. Loss: 0.402 |  Val. Acc: 88.23%\n",
            "Epoch: 12 | Epoch Time: 0m 4s\n",
            "\tTrain Loss: 0.219 | Train Acc: 92.83%\n",
            "\t Val. Loss: 0.351 |  Val. Acc: 89.21%\n",
            "Epoch: 13 | Epoch Time: 0m 4s\n",
            "\tTrain Loss: 0.197 | Train Acc: 93.44%\n",
            "\t Val. Loss: 0.381 |  Val. Acc: 89.08%\n",
            "Epoch: 14 | Epoch Time: 0m 4s\n",
            "\tTrain Loss: 0.170 | Train Acc: 94.28%\n",
            "\t Val. Loss: 0.371 |  Val. Acc: 87.69%\n",
            "Epoch: 15 | Epoch Time: 0m 4s\n",
            "\tTrain Loss: 0.167 | Train Acc: 94.42%\n",
            "\t Val. Loss: 0.396 |  Val. Acc: 88.78%\n"
          ],
          "name": "stdout"
        }
      ]
    },
    {
      "cell_type": "markdown",
      "metadata": {
        "id": "Z9NOp85csblT",
        "colab_type": "text"
      },
      "source": [
        "### Preditc accuracy for each class"
      ]
    },
    {
      "cell_type": "code",
      "metadata": {
        "id": "q03vI74e4TBF",
        "colab_type": "code",
        "outputId": "37809b76-49b2-4193-d991-7730cea288e7",
        "colab": {
          "base_uri": "https://localhost:8080/",
          "height": 238
        }
      },
      "source": [
        "print('Class accuracy with LeNet: ')\n",
        "class_accuracy(model=LeNet(OUTPUT_DIM), outputModel='bottle-LeNet.pt')\n",
        "print(\"====================\")\n",
        "print('Class accuracy with AlexNet: ')\n",
        "class_accuracy(model=AlexNet(OUTPUT_DIM), outputModel='bottle-AlexNet.pt')"
      ],
      "execution_count": 0,
      "outputs": [
        {
          "output_type": "stream",
          "text": [
            "Class accuracy with LeNet: \n",
            "Accuracy of     0 : 83 %\n",
            "Accuracy of     1 : 86 %\n",
            "Accuracy of     2 : 100 %\n",
            "Accuracy of     3 : 93 %\n",
            "Accuracy of     4 : 100 %\n",
            "====================\n",
            "Class accuracy with AlexNet: \n",
            "Accuracy of     0 : 83 %\n",
            "Accuracy of     1 : 100 %\n",
            "Accuracy of     2 : 100 %\n",
            "Accuracy of     3 : 93 %\n",
            "Accuracy of     4 : 77 %\n"
          ],
          "name": "stdout"
        }
      ]
    },
    {
      "cell_type": "code",
      "metadata": {
        "id": "kliFuxD-s3pM",
        "colab_type": "code",
        "colab": {}
      },
      "source": [
        "#prediction for test set\n",
        "net = AlexNet(OUTPUT_DIM)\n",
        "net.load_state_dict(torch.load('bottle-AlexNet.pt'))\n",
        "pred = []\n",
        "with torch.no_grad():\n",
        "    for data in test_iterator:\n",
        "        images, png = data\n",
        "        outputs = net(images)\n",
        "        _, predicted = torch.max(outputs, 1)\n",
        "        #print(png[0], ' ', predicted.item())\n",
        "        pred.append((png[0], predicted.item()))\n",
        "df = pd.DataFrame(pred, columns=['Id', 'label'])\n",
        "df.to_csv('submission.csv', index=None)"
      ],
      "execution_count": 0,
      "outputs": []
    },
    {
      "cell_type": "code",
      "metadata": {
        "id": "cMDyje8cYCzx",
        "colab_type": "code",
        "colab": {}
      },
      "source": [
        ""
      ],
      "execution_count": 0,
      "outputs": []
    }
  ]
}